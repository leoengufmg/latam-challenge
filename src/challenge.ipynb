{
  "cells": [
    {
      "cell_type": "code",
      "source": [
        "import sys\n",
        "import logging\n",
        "import os\n",
        "import time\n",
        "import io\n",
        "\n",
        "from google.colab import drive"
      ],
      "metadata": {
        "id": "xQ7cGmmHx43E"
      },
      "execution_count": 1,
      "outputs": []
    },
    {
      "cell_type": "code",
      "source": [
        "from google.colab import drive\n",
        "import os\n",
        "import logging\n",
        "import subprocess\n",
        "\n",
        "drive.mount('/content/drive', force_remount=True)\n",
        "\n",
        "drive_mount_point = '/content/drive/MyDrive'\n",
        "source_path = 'leonardora/de/latam-challenge/'\n",
        "target_dir = os.path.join(drive_mount_point, source_path)\n",
        "\n",
        "if not os.path.exists(target_dir):\n",
        "    os.makedirs(target_dir)\n",
        "    print(f\"Directorio creado: {target_dir}\")\n",
        "else:\n",
        "    print(f\"Directorio existente: {target_dir}\")\n",
        "\n",
        "os.chdir(target_dir)\n",
        "print(f\"Directorio actual: {os.getcwd()}\")\n",
        "\n",
        "if os.path.exists(os.path.join(target_dir, \".git\")):\n",
        "    print(\"Repositorio ya existe. Haciendo pull de los últimos cambios...\")\n",
        "    !git checkout hotfix/fix-issue-functions\n",
        "    !git pull origin hotfix/fix-issue-functions\n",
        "else:\n",
        "    repo_url = \"https://github.com/leoengufmg/latam-challenge.git\"\n",
        "    print(\"Clonando el repositorio...\")\n",
        "    !git clone {repo_url} .\n",
        "\n",
        "    !git checkout hotfix/fix-issue-functions\n",
        "    !git pull"
      ],
      "metadata": {
        "colab": {
          "base_uri": "https://localhost:8080/"
        },
        "id": "Sq9nfwnox7q3",
        "outputId": "bd36deae-3cb0-4767-eee3-aa447db6f461"
      },
      "execution_count": 2,
      "outputs": [
        {
          "output_type": "stream",
          "name": "stdout",
          "text": [
            "Mounted at /content/drive\n",
            "Directorio existente: /content/drive/MyDrive/leonardora/de/latam-challenge/\n",
            "Directorio actual: /content/drive/MyDrive/leonardora/de/latam-challenge\n",
            "Repositorio ya existe. Haciendo pull de los últimos cambios...\n",
            "Already on 'hotfix/fix-issue-functions'\n",
            "Your branch is up to date with 'origin/hotfix/fix-issue-functions'.\n",
            "From https://github.com/leoengufmg/latam-challenge\n",
            " * branch            hotfix/fix-issue-functions -> FETCH_HEAD\n",
            "Already up to date.\n"
          ]
        }
      ]
    },
    {
      "cell_type": "code",
      "source": [
        "os.chdir(os.path.join(target_dir, \"src\"))\n",
        "!pwd"
      ],
      "metadata": {
        "colab": {
          "base_uri": "https://localhost:8080/"
        },
        "id": "zrEmAFqjzYNa",
        "outputId": "bc4f8f0c-945d-4046-a6fd-8da2569aa0be"
      },
      "execution_count": 3,
      "outputs": [
        {
          "output_type": "stream",
          "name": "stdout",
          "text": [
            "/content/drive/MyDrive/leonardora/de/latam-challenge/src\n"
          ]
        }
      ]
    },
    {
      "cell_type": "code",
      "execution_count": 4,
      "metadata": {
        "id": "kas7oVne358i",
        "colab": {
          "base_uri": "https://localhost:8080/"
        },
        "outputId": "6a41a8ce-1e48-4084-8bf2-a7c686e82988"
      },
      "outputs": [
        {
          "output_type": "stream",
          "name": "stdout",
          "text": [
            "Installing memory-profiler==0.61.0...\n",
            "memory-profiler==0.61.0 installed successfully.\n",
            "Installing google_cloud_bigquery==3.20.1...\n",
            "google_cloud_bigquery==3.20.1 installed successfully.\n",
            "Installing line_profiler==4.1.2...\n",
            "line_profiler==4.1.2 installed successfully.\n",
            "All required libraries were installed successfully.\n",
            "Procediendo a descargar datos...\n",
            "Bucket gcp_latam_twitter already exists.\n"
          ]
        }
      ],
      "source": [
        "import os\n",
        "import logging\n",
        "import time\n",
        "import io\n",
        "import bq_query\n",
        "from google.colab import drive\n",
        "from google.colab import auth\n",
        "from google.cloud import bigquery\n",
        "from googleapiclient.discovery import build\n",
        "from googleapiclient.http import MediaIoBaseDownload\n",
        "from google.cloud import storage\n",
        "from typing import List, Tuple, Any\n",
        "from functions import (\n",
        "    authenticate_google_drive, mount_google_drive, create_bucket_if_not_exists,\n",
        "    download_file_from_drive, upload_drive_file_to_cloud_storage, extract_zip_file_conditionally,\n",
        "    authenticate_bigquery, create_dataset, create_table, load_data_from_storage, launch_bigquery,\n",
        "    install_requirements\n",
        ")\n",
        "\n",
        "\n",
        "# Configuración inicial\n",
        "bucket_name = 'gcp_latam_twitter'\n",
        "folder_name = 'raw'\n",
        "zip_file_name = 'tweets.json.zip'\n",
        "file_id = '1ig2ngoXFTxP5Pa8muXo02mDTFexZzsis'\n",
        "project_id = \"latam-challenge-leonardora\"\n",
        "dataset = \"latam_tweets_dataset\"\n",
        "table = \"tweets\"\n",
        "gcloud_url = f\"gs://{bucket_name}/{folder_name}/\"\n",
        "logging_level = str(logging.DEBUG)\n",
        "logging.basicConfig(level=int(logging_level))\n",
        "\n",
        "if install_requirements(\"../requirements.txt\"):\n",
        "  print(\"Procediendo a descargar datos...\")\n",
        "  # Código para descargar datos u otras acciones adicionales\n",
        "else:\n",
        "  print(\"Error al instalar los requisitos. Abortando acciones adicionales.\")\n",
        "\n",
        "# Autenticación y creación de bucket en GCP\n",
        "auth.authenticate_user()\n",
        "new_bucket = create_bucket_if_not_exists(bucket_name, project_id)"
      ]
    },
    {
      "cell_type": "code",
      "source": [
        "try:\n",
        "    # Autenticación y montaje de Google Drive\n",
        "    authenticate_google_drive()\n",
        "    mount_google_drive()\n",
        "    drive_service: Any = build('drive', 'v3')\n",
        "\n",
        "    # Acceso a Google Cloud Storage\n",
        "    storage_client = storage.Client()\n",
        "    bucket = storage_client.bucket(bucket_name)\n",
        "\n",
        "    downloaded = download_file_from_drive(drive_service, file_id)\n",
        "\n",
        "    # Verificar si el archivo tiene contenido\n",
        "    if downloaded.getbuffer().nbytes == 0:\n",
        "        logging.info(\"Skipping upload as the file is empty.\")\n",
        "    else:\n",
        "        # Cargar el archivo en Google Cloud Storage\n",
        "        uploaded_blob = upload_drive_file_to_cloud_storage(bucket, folder_name, downloaded, zip_file_name)\n",
        "\n",
        "        # Descomprimir el archivo si es un ZIP\n",
        "        json_file_name: str = extract_zip_file_conditionally(bucket, folder_name, zip_file_name)\n",
        "\n",
        "    logging.info(\"File transfer successful!\")\n",
        "\n",
        "except Exception as e:\n",
        "    logging.error(f\"An error occurred: {e}\")\n",
        "\n",
        "finally:\n",
        "    downloaded.close()\n",
        "    print(\"File transfer process completed.\")\n",
        "\n",
        "downloaded.close()"
      ],
      "metadata": {
        "colab": {
          "base_uri": "https://localhost:8080/"
        },
        "id": "irxveTuFIA2Q",
        "outputId": "1b2d858a-0143-42b9-f8b2-9c9645156d0e"
      },
      "execution_count": 5,
      "outputs": [
        {
          "output_type": "stream",
          "name": "stdout",
          "text": [
            "Mounted at /content/drive\n",
            "Downloading 100%\n",
            "File transfer process completed.\n"
          ]
        }
      ]
    },
    {
      "cell_type": "code",
      "source": [
        "# Autenticación en BigQuery y creación de dataset y tabla\n",
        "bigquery_client = authenticate_bigquery(project_id)\n",
        "create_dataset(bigquery_client, dataset, mode='overwrite')\n",
        "create_table(bigquery_client, dataset, table, mode='overwrite')"
      ],
      "metadata": {
        "id": "wAm5qZp4G4eE"
      },
      "execution_count": 5,
      "outputs": []
    },
    {
      "cell_type": "code",
      "source": [
        "drive_mount_point = '/content/drive/MyDrive'\n",
        "source_path = 'leonardora/de/latam-challenge/'\n",
        "\n",
        "# Set Google Cloud project and dataset info\n",
        "project_id = \"latam-challenge-leonardora\"\n",
        "project_name = \"latam-challenge-leonardora\"\n",
        "dataset = \"latam_tweets_dataset\"\n",
        "table =\"tweets\"\n",
        "json_file_name = \"farmers-protest-tweets-2021-2-4.json\"\n",
        "# Carga de datos desde Cloud Storage a BigQuery\n",
        "load_data_from_storage(bigquery_client, gcloud_url, dataset, table, json_file_name)"
      ],
      "metadata": {
        "id": "rljTYVxwHVJv"
      },
      "execution_count": 6,
      "outputs": []
    },
    {
      "cell_type": "code",
      "source": [
        "# Consultas y perfilado de tiempo con LineProfiler\n",
        "from line_profiler import LineProfiler\n",
        "\n",
        "bigquery_client: bigquery.Client = authenticate_bigquery(project_id)\n",
        "\n",
        "profiler = LineProfiler()"
      ],
      "metadata": {
        "id": "h8ICGEGpI1XT"
      },
      "execution_count": 7,
      "outputs": []
    },
    {
      "cell_type": "code",
      "source": [
        "from q1_time import q1_time\n",
        "from q2_time import q2_time\n",
        "from q3_time import q3_time\n",
        "\n",
        "from q1_memory import q1_memory\n",
        "from q2_memory import q2_memory\n",
        "from q3_memory import q3_memory"
      ],
      "metadata": {
        "id": "eW_4vtL7LOwM"
      },
      "execution_count": 8,
      "outputs": []
    },
    {
      "cell_type": "code",
      "source": [
        "# Consulta de las fechas con más tweets y usuario con más tweets cada día\n",
        "profiler.add_function(q1_time)\n",
        "profiler.enable_by_count()\n",
        "q1_time_tuple = q1_time(bigquery_client, bq_query.top_dates_with_top_users)\n",
        "profiler.print_stats()\n",
        "display(q1_time_tuple)"
      ],
      "metadata": {
        "colab": {
          "base_uri": "https://localhost:8080/",
          "height": 438
        },
        "id": "nfL2ITf0I_HG",
        "outputId": "6b8044ff-44e7-486c-c4d8-ca9b30ef7fb5"
      },
      "execution_count": 9,
      "outputs": [
        {
          "output_type": "stream",
          "name": "stdout",
          "text": [
            "Timer unit: 1e-09 s\n",
            "\n",
            "Total time: 1.66841 s\n",
            "File: /content/drive/MyDrive/leonardora/de/latam-challenge/src/q1_time.py\n",
            "Function: q1_time at line 8\n",
            "\n",
            "Line #      Hits         Time  Per Hit   % Time  Line Contents\n",
            "==============================================================\n",
            "     8                                           @line_profiler.profile\n",
            "     9                                           def q1_time(client: bigquery.Client, sql: str) -> List[Tuple[datetime.date, str]]:\n",
            "    10         1 1668412839.0    2e+09    100.0    return launch_bigquery(client, sql)\n",
            "\n"
          ]
        },
        {
          "output_type": "display_data",
          "data": {
            "text/plain": [
              "[(datetime.date(2021, 2, 12), 'RanbirS00614606'),\n",
              " (datetime.date(2021, 2, 13), 'MaanDee08215437'),\n",
              " (datetime.date(2021, 2, 17), 'RaaJVinderkaur'),\n",
              " (datetime.date(2021, 2, 16), 'jot__b'),\n",
              " (datetime.date(2021, 2, 14), 'rebelpacifist'),\n",
              " (datetime.date(2021, 2, 18), 'neetuanjle_nitu'),\n",
              " (datetime.date(2021, 2, 15), 'jot__b'),\n",
              " (datetime.date(2021, 2, 20), 'MangalJ23056160'),\n",
              " (datetime.date(2021, 2, 23), 'Surrypuria'),\n",
              " (datetime.date(2021, 2, 19), 'Preetm91')]"
            ]
          },
          "metadata": {}
        }
      ]
    },
    {
      "cell_type": "code",
      "source": [
        "# Consulta de los 10 emojis más usados\n",
        "profiler.add_function(q2_time)\n",
        "profiler.enable_by_count()\n",
        "q2_time_tuple = q2_time(bigquery_client, bq_query.top_emojis)\n",
        "profiler.print_stats()\n",
        "display(q2_time_tuple)"
      ],
      "metadata": {
        "colab": {
          "base_uri": "https://localhost:8080/",
          "height": 621
        },
        "id": "KAMCSPg0HP2_",
        "outputId": "47b6a19e-39bb-48c9-d3c4-4547f180a93a"
      },
      "execution_count": 10,
      "outputs": [
        {
          "output_type": "stream",
          "name": "stdout",
          "text": [
            "Timer unit: 1e-09 s\n",
            "\n",
            "Total time: 1.66841 s\n",
            "File: /content/drive/MyDrive/leonardora/de/latam-challenge/src/q1_time.py\n",
            "Function: q1_time at line 8\n",
            "\n",
            "Line #      Hits         Time  Per Hit   % Time  Line Contents\n",
            "==============================================================\n",
            "     8                                           @line_profiler.profile\n",
            "     9                                           def q1_time(client: bigquery.Client, sql: str) -> List[Tuple[datetime.date, str]]:\n",
            "    10         1 1668412839.0    2e+09    100.0    return launch_bigquery(client, sql)\n",
            "\n",
            "Total time: 1.17309 s\n",
            "File: /content/drive/MyDrive/leonardora/de/latam-challenge/src/q2_time.py\n",
            "Function: q2_time at line 7\n",
            "\n",
            "Line #      Hits         Time  Per Hit   % Time  Line Contents\n",
            "==============================================================\n",
            "     7                                           @line_profiler.profile\n",
            "     8                                           def q2_time(client: bigquery.Client, sql: str) -> List[Tuple[str, int]]:\n",
            "     9         1 1173086803.0    1e+09    100.0      return launch_bigquery(client, sql)\n",
            "\n"
          ]
        },
        {
          "output_type": "display_data",
          "data": {
            "text/plain": [
              "[('✊', 2402),\n",
              " ('❤️', 1382),\n",
              " ('❤', 397),\n",
              " ('☮️', 316),\n",
              " ('♂️', 179),\n",
              " ('✌️', 168),\n",
              " ('♀️', 148),\n",
              " ('✌', 106),\n",
              " ('‼️', 74),\n",
              " ('♥️', 73)]"
            ]
          },
          "metadata": {}
        }
      ]
    },
    {
      "cell_type": "code",
      "source": [
        "# Consulta de los 10 usuarios más influyentes\n",
        "profiler.add_function(q3_time)\n",
        "profiler.enable_by_count()\n",
        "q3_time_tuple = q3_time(bigquery_client, bq_query.top_influential_users)\n",
        "profiler.print_stats()\n",
        "display(q3_time_tuple)"
      ],
      "metadata": {
        "id": "_qsftJ8eOxD4",
        "outputId": "d979caac-eacc-4f6c-f02a-b86115cab9b7",
        "colab": {
          "base_uri": "https://localhost:8080/",
          "height": 803
        }
      },
      "execution_count": 11,
      "outputs": [
        {
          "output_type": "stream",
          "name": "stdout",
          "text": [
            "Timer unit: 1e-09 s\n",
            "\n",
            "Total time: 1.66841 s\n",
            "File: /content/drive/MyDrive/leonardora/de/latam-challenge/src/q1_time.py\n",
            "Function: q1_time at line 8\n",
            "\n",
            "Line #      Hits         Time  Per Hit   % Time  Line Contents\n",
            "==============================================================\n",
            "     8                                           @line_profiler.profile\n",
            "     9                                           def q1_time(client: bigquery.Client, sql: str) -> List[Tuple[datetime.date, str]]:\n",
            "    10         1 1668412839.0    2e+09    100.0    return launch_bigquery(client, sql)\n",
            "\n",
            "Total time: 1.17309 s\n",
            "File: /content/drive/MyDrive/leonardora/de/latam-challenge/src/q2_time.py\n",
            "Function: q2_time at line 7\n",
            "\n",
            "Line #      Hits         Time  Per Hit   % Time  Line Contents\n",
            "==============================================================\n",
            "     7                                           @line_profiler.profile\n",
            "     8                                           def q2_time(client: bigquery.Client, sql: str) -> List[Tuple[str, int]]:\n",
            "     9         1 1173086803.0    1e+09    100.0      return launch_bigquery(client, sql)\n",
            "\n",
            "Total time: 1.0712 s\n",
            "File: /content/drive/MyDrive/leonardora/de/latam-challenge/src/q3_time.py\n",
            "Function: q3_time at line 7\n",
            "\n",
            "Line #      Hits         Time  Per Hit   % Time  Line Contents\n",
            "==============================================================\n",
            "     7                                           @line_profiler.profile\n",
            "     8                                           def q3_time(client: bigquery.Client, sql: str) -> List[Tuple[str, int]]:\n",
            "     9         1 1071199477.0    1e+09    100.0      return launch_bigquery(client, sql)\n",
            "\n"
          ]
        },
        {
          "output_type": "display_data",
          "data": {
            "text/plain": [
              "[('narendramodi', 2265),\n",
              " ('Kisanektamorcha', 1840),\n",
              " ('RakeshTikaitBKU', 1644),\n",
              " ('PMOIndia', 1427),\n",
              " ('RahulGandhi', 1146),\n",
              " ('GretaThunberg', 1048),\n",
              " ('RaviSinghKA', 1019),\n",
              " ('rihanna', 986),\n",
              " ('UNHumanRights', 962),\n",
              " ('meenaharris', 926)]"
            ]
          },
          "metadata": {}
        }
      ]
    },
    {
      "cell_type": "code",
      "source": [
        "# Análisis de memoria para cada consulta\n",
        "print(\"Análisis de Memoria - Top 10 Fechas con más Tweets\")\n",
        "q1_memory(bigquery_client, bq_query.top_dates_with_top_users)"
      ],
      "metadata": {
        "id": "d2909ABgO1nY",
        "outputId": "d7d4c8f6-245c-44d1-993a-5d79c06ab04f",
        "colab": {
          "base_uri": "https://localhost:8080/"
        }
      },
      "execution_count": 15,
      "outputs": [
        {
          "output_type": "stream",
          "name": "stdout",
          "text": [
            "Análisis de Memoria - Top 10 Fechas con más Tweets\n",
            "Filename: /content/drive/MyDrive/leonardora/de/latam-challenge/src/q1_memory.py\n",
            "\n",
            "Line #    Mem usage    Increment  Occurrences   Line Contents\n",
            "=============================================================\n",
            "     8    207.9 MiB    207.9 MiB           1   @memory_profiler.profile\n",
            "     9                                         def q1_memory(client: bigquery.Client, sql: str) -> List[Tuple[datetime.date, str]]:\n",
            "    10    207.9 MiB      0.0 MiB           1       return launch_bigquery(client, sql)\n",
            "\n",
            "\n"
          ]
        },
        {
          "output_type": "execute_result",
          "data": {
            "text/plain": [
              "[(datetime.date(2021, 2, 12), 'RanbirS00614606'),\n",
              " (datetime.date(2021, 2, 13), 'MaanDee08215437'),\n",
              " (datetime.date(2021, 2, 17), 'RaaJVinderkaur'),\n",
              " (datetime.date(2021, 2, 16), 'jot__b'),\n",
              " (datetime.date(2021, 2, 14), 'rebelpacifist'),\n",
              " (datetime.date(2021, 2, 18), 'neetuanjle_nitu'),\n",
              " (datetime.date(2021, 2, 15), 'jot__b'),\n",
              " (datetime.date(2021, 2, 20), 'MangalJ23056160'),\n",
              " (datetime.date(2021, 2, 23), 'Surrypuria'),\n",
              " (datetime.date(2021, 2, 19), 'Preetm91')]"
            ]
          },
          "metadata": {},
          "execution_count": 15
        }
      ]
    },
    {
      "cell_type": "code",
      "source": [
        "print(\"Análisis de Memoria - Top 10 Emojis más usados\")\n",
        "q2_memory(bigquery_client, bq_query.top_emojis)"
      ],
      "metadata": {
        "id": "Fz6rwRJjO3br",
        "outputId": "c5faebee-d218-44f8-a99e-35b617ff2ca8",
        "colab": {
          "base_uri": "https://localhost:8080/"
        }
      },
      "execution_count": 16,
      "outputs": [
        {
          "output_type": "stream",
          "name": "stdout",
          "text": [
            "Análisis de Memoria - Top 10 Emojis más usados\n",
            "Filename: /content/drive/MyDrive/leonardora/de/latam-challenge/src/q2_memory.py\n",
            "\n",
            "Line #    Mem usage    Increment  Occurrences   Line Contents\n",
            "=============================================================\n",
            "     7    207.9 MiB    207.9 MiB           1   @memory_profiler.profile\n",
            "     8                                         def q2_memory(client: bigquery.Client, sql: str) -> List[Tuple[str, int]]:\n",
            "     9    207.9 MiB      0.0 MiB           1       try:\n",
            "    10    207.9 MiB      0.0 MiB           1           results = launch_bigquery(client, sql)\n",
            "    11    207.9 MiB      0.0 MiB          13           return [(row[0], int(row[1])) for row in results]\n",
            "    12                                             except ValueError as e:\n",
            "    13                                                 print(f\"Error converting data to string and integer pairs: {e}\")\n",
            "    14                                                 return []\n",
            "\n",
            "\n"
          ]
        },
        {
          "output_type": "execute_result",
          "data": {
            "text/plain": [
              "[('✊', 2402),\n",
              " ('❤️', 1382),\n",
              " ('❤', 397),\n",
              " ('☮️', 316),\n",
              " ('♂️', 179),\n",
              " ('✌️', 168),\n",
              " ('♀️', 148),\n",
              " ('✌', 106),\n",
              " ('‼️', 74),\n",
              " ('♥️', 73)]"
            ]
          },
          "metadata": {},
          "execution_count": 16
        }
      ]
    },
    {
      "cell_type": "code",
      "source": [
        "print(\"Análisis de Memoria - Top 10 Usuarios más influyentes\")\n",
        "q3_memory(bigquery_client, bq_query.top_influential_users)"
      ],
      "metadata": {
        "id": "OpUPzd-MO77H",
        "outputId": "33dfa9f4-0a77-4999-e2df-c801cad4c1af",
        "colab": {
          "base_uri": "https://localhost:8080/"
        }
      },
      "execution_count": 17,
      "outputs": [
        {
          "output_type": "stream",
          "name": "stdout",
          "text": [
            "Análisis de Memoria - Top 10 Usuarios más influyentes\n",
            "Filename: /content/drive/MyDrive/leonardora/de/latam-challenge/src/q3_memory.py\n",
            "\n",
            "Line #    Mem usage    Increment  Occurrences   Line Contents\n",
            "=============================================================\n",
            "     7    207.9 MiB    207.9 MiB           1   @memory_profiler.profile\n",
            "     8                                         def q3_memory(client: bigquery.Client, sql: str) -> List[Tuple[str, int]]:\n",
            "     9    207.9 MiB      0.0 MiB           1      try:\n",
            "    10    207.9 MiB      0.0 MiB           1          results = launch_bigquery(client, sql)\n",
            "    11    207.9 MiB      0.0 MiB          13          formatted_results = [(row[0], int(row[1])) for row in results]\n",
            "    12                                         \n",
            "    13    207.9 MiB      0.0 MiB           1          if len(formatted_results) > 1000:\n",
            "    14                                                    print(\"Warning: Returning a large dataset. Consider using streaming or pagination for memory optimization.\")\n",
            "    15    207.9 MiB      0.0 MiB           1          return formatted_results\n",
            "    16                                            except ValueError as e:\n",
            "    17                                                print(f\"Error converting data to string and integer pairs: {e}\")\n",
            "    18                                                return []\n",
            "\n",
            "\n"
          ]
        },
        {
          "output_type": "execute_result",
          "data": {
            "text/plain": [
              "[('narendramodi', 2265),\n",
              " ('Kisanektamorcha', 1840),\n",
              " ('RakeshTikaitBKU', 1644),\n",
              " ('PMOIndia', 1427),\n",
              " ('RahulGandhi', 1146),\n",
              " ('GretaThunberg', 1048),\n",
              " ('RaviSinghKA', 1019),\n",
              " ('rihanna', 986),\n",
              " ('UNHumanRights', 962),\n",
              " ('meenaharris', 926)]"
            ]
          },
          "metadata": {},
          "execution_count": 17
        }
      ]
    },
    {
      "cell_type": "code",
      "source": [],
      "metadata": {
        "id": "DCzld0qIPLTv"
      },
      "execution_count": null,
      "outputs": []
    }
  ],
  "metadata": {
    "language_info": {
      "name": "python"
    },
    "orig_nbformat": 4,
    "colab": {
      "provenance": []
    },
    "kernelspec": {
      "name": "python3",
      "display_name": "Python 3"
    }
  },
  "nbformat": 4,
  "nbformat_minor": 0
}